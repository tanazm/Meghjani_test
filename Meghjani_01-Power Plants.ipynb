{
 "cells": [
  {
   "cell_type": "markdown",
   "id": "8d532d66",
   "metadata": {},
   "source": [
    "# Power Plants\n",
    "\n",
    "* **Data:** `powerplants.csv`\n",
    "* **Columns of interest:**\n",
    "    * `Plant_Name` is the name of the power plant\n",
    "    * `Utility_Na` is the name of the owner of the power plant\n",
    "    * `City`, `County`, `StateName`, `Zip`\n",
    "    * `PrimSource` is what kind of energy source it uses (nuclear, coal, etc)\n",
    "    * `Total_MW` is the total amount of energy produces"
   ]
  },
  {
   "cell_type": "markdown",
   "id": "2a954687",
   "metadata": {},
   "source": [
    "## Read in the data"
   ]
  },
  {
   "cell_type": "code",
   "execution_count": 11,
   "id": "d32c3000",
   "metadata": {},
   "outputs": [
    {
     "data": {
      "text/html": [
       "<div>\n",
       "<style scoped>\n",
       "    .dataframe tbody tr th:only-of-type {\n",
       "        vertical-align: middle;\n",
       "    }\n",
       "\n",
       "    .dataframe tbody tr th {\n",
       "        vertical-align: top;\n",
       "    }\n",
       "\n",
       "    .dataframe thead th {\n",
       "        text-align: right;\n",
       "    }\n",
       "</style>\n",
       "<table border=\"1\" class=\"dataframe\">\n",
       "  <thead>\n",
       "    <tr style=\"text-align: right;\">\n",
       "      <th></th>\n",
       "      <th>Plant_Code</th>\n",
       "      <th>Plant_Name</th>\n",
       "      <th>Utility_Na</th>\n",
       "      <th>Utility_ID</th>\n",
       "      <th>sector_nam</th>\n",
       "      <th>City</th>\n",
       "      <th>County</th>\n",
       "      <th>StateName</th>\n",
       "      <th>Zip</th>\n",
       "      <th>Street_Add</th>\n",
       "      <th>...</th>\n",
       "      <th>Solar_MW</th>\n",
       "      <th>Wind_MW</th>\n",
       "      <th>Geo_MW</th>\n",
       "      <th>Other_MW</th>\n",
       "      <th>source_des</th>\n",
       "      <th>tech_desc</th>\n",
       "      <th>Source</th>\n",
       "      <th>Period</th>\n",
       "      <th>Latitude</th>\n",
       "      <th>Longitude</th>\n",
       "    </tr>\n",
       "  </thead>\n",
       "  <tbody>\n",
       "    <tr>\n",
       "      <th>0</th>\n",
       "      <td>2</td>\n",
       "      <td>Bankhead Dam</td>\n",
       "      <td>Alabama Power Co</td>\n",
       "      <td>195</td>\n",
       "      <td>Electric Utility</td>\n",
       "      <td>Northport</td>\n",
       "      <td>Tuscaloosa</td>\n",
       "      <td>Alabama</td>\n",
       "      <td>35476</td>\n",
       "      <td>19001 Lock 17 Road</td>\n",
       "      <td>...</td>\n",
       "      <td>0.0</td>\n",
       "      <td>0.0</td>\n",
       "      <td>NaN</td>\n",
       "      <td>0.0</td>\n",
       "      <td>Hydroelectric = 56 MW</td>\n",
       "      <td>Conventional Hydroelectric</td>\n",
       "      <td>EIA-860, EIA-860M and EIA-923</td>\n",
       "      <td>201801</td>\n",
       "      <td>33.458665</td>\n",
       "      <td>-87.356823</td>\n",
       "    </tr>\n",
       "    <tr>\n",
       "      <th>1</th>\n",
       "      <td>3</td>\n",
       "      <td>Barry</td>\n",
       "      <td>Alabama Power Co</td>\n",
       "      <td>195</td>\n",
       "      <td>Electric Utility</td>\n",
       "      <td>Bucks</td>\n",
       "      <td>Mobile</td>\n",
       "      <td>Alabama</td>\n",
       "      <td>36512</td>\n",
       "      <td>North Highway 43</td>\n",
       "      <td>...</td>\n",
       "      <td>0.0</td>\n",
       "      <td>0.0</td>\n",
       "      <td>NaN</td>\n",
       "      <td>0.0</td>\n",
       "      <td>Coal = 1100.5 MW, Natural Gas = 1072 MW</td>\n",
       "      <td>Conventional Steam Coal; Natural Gas Fired Com...</td>\n",
       "      <td>EIA-860, EIA-860M and EIA-923</td>\n",
       "      <td>201801</td>\n",
       "      <td>31.006900</td>\n",
       "      <td>-88.010300</td>\n",
       "    </tr>\n",
       "    <tr>\n",
       "      <th>2</th>\n",
       "      <td>4</td>\n",
       "      <td>Walter Bouldin Dam</td>\n",
       "      <td>Alabama Power Co</td>\n",
       "      <td>195</td>\n",
       "      <td>Electric Utility</td>\n",
       "      <td>Wetumpka</td>\n",
       "      <td>Elmore</td>\n",
       "      <td>Alabama</td>\n",
       "      <td>36092</td>\n",
       "      <td>750 Bouldin Dam Road</td>\n",
       "      <td>...</td>\n",
       "      <td>0.0</td>\n",
       "      <td>0.0</td>\n",
       "      <td>NaN</td>\n",
       "      <td>0.0</td>\n",
       "      <td>Hydroelectric = 225.9 MW</td>\n",
       "      <td>Conventional Hydroelectric</td>\n",
       "      <td>EIA-860, EIA-860M and EIA-923</td>\n",
       "      <td>201801</td>\n",
       "      <td>32.583889</td>\n",
       "      <td>-86.283056</td>\n",
       "    </tr>\n",
       "    <tr>\n",
       "      <th>3</th>\n",
       "      <td>7</td>\n",
       "      <td>Gadsden</td>\n",
       "      <td>Alabama Power Co</td>\n",
       "      <td>195</td>\n",
       "      <td>Electric Utility</td>\n",
       "      <td>Gadsden</td>\n",
       "      <td>Etowah</td>\n",
       "      <td>Alabama</td>\n",
       "      <td>35903</td>\n",
       "      <td>1000 Goodyear Ave</td>\n",
       "      <td>...</td>\n",
       "      <td>0.0</td>\n",
       "      <td>0.0</td>\n",
       "      <td>NaN</td>\n",
       "      <td>0.0</td>\n",
       "      <td>Natural Gas = 130 MW</td>\n",
       "      <td>Natural Gas Steam Turbine</td>\n",
       "      <td>EIA-860, EIA-860M and EIA-923</td>\n",
       "      <td>201801</td>\n",
       "      <td>34.012800</td>\n",
       "      <td>-85.970800</td>\n",
       "    </tr>\n",
       "    <tr>\n",
       "      <th>4</th>\n",
       "      <td>8</td>\n",
       "      <td>Gorgas</td>\n",
       "      <td>Alabama Power Co</td>\n",
       "      <td>195</td>\n",
       "      <td>Electric Utility</td>\n",
       "      <td>Parrish</td>\n",
       "      <td>Walker</td>\n",
       "      <td>Alabama</td>\n",
       "      <td>35580</td>\n",
       "      <td>460 Gorgas Road</td>\n",
       "      <td>...</td>\n",
       "      <td>0.0</td>\n",
       "      <td>0.0</td>\n",
       "      <td>NaN</td>\n",
       "      <td>0.0</td>\n",
       "      <td>Coal = 1053.7 MW</td>\n",
       "      <td>Conventional Steam Coal</td>\n",
       "      <td>EIA-860, EIA-860M and EIA-923</td>\n",
       "      <td>201801</td>\n",
       "      <td>33.644344</td>\n",
       "      <td>-87.196486</td>\n",
       "    </tr>\n",
       "    <tr>\n",
       "      <th>...</th>\n",
       "      <td>...</td>\n",
       "      <td>...</td>\n",
       "      <td>...</td>\n",
       "      <td>...</td>\n",
       "      <td>...</td>\n",
       "      <td>...</td>\n",
       "      <td>...</td>\n",
       "      <td>...</td>\n",
       "      <td>...</td>\n",
       "      <td>...</td>\n",
       "      <td>...</td>\n",
       "      <td>...</td>\n",
       "      <td>...</td>\n",
       "      <td>...</td>\n",
       "      <td>...</td>\n",
       "      <td>...</td>\n",
       "      <td>...</td>\n",
       "      <td>...</td>\n",
       "      <td>...</td>\n",
       "      <td>...</td>\n",
       "      <td>...</td>\n",
       "    </tr>\n",
       "    <tr>\n",
       "      <th>8611</th>\n",
       "      <td>61658</td>\n",
       "      <td>Cougar Solar, LLC</td>\n",
       "      <td>Cougar Solar, LLC</td>\n",
       "      <td>61269</td>\n",
       "      <td>IPP Non-CHP</td>\n",
       "      <td>NaN</td>\n",
       "      <td>NaN</td>\n",
       "      <td>North Carolina</td>\n",
       "      <td>0</td>\n",
       "      <td>NaN</td>\n",
       "      <td>...</td>\n",
       "      <td>1.9</td>\n",
       "      <td>0.0</td>\n",
       "      <td>NaN</td>\n",
       "      <td>0.0</td>\n",
       "      <td>Solar = 1.9 MW</td>\n",
       "      <td>Solar Photovoltaic</td>\n",
       "      <td>EIA-860, EIA-860M and EIA-923</td>\n",
       "      <td>201801</td>\n",
       "      <td>35.462405</td>\n",
       "      <td>-79.180654</td>\n",
       "    </tr>\n",
       "    <tr>\n",
       "      <th>8612</th>\n",
       "      <td>61668</td>\n",
       "      <td>Creston Ridge II, LLC</td>\n",
       "      <td>Creston Ridge II, LLC</td>\n",
       "      <td>61280</td>\n",
       "      <td>IPP Non-CHP</td>\n",
       "      <td>NaN</td>\n",
       "      <td>NaN</td>\n",
       "      <td>Nebraska</td>\n",
       "      <td>0</td>\n",
       "      <td>NaN</td>\n",
       "      <td>...</td>\n",
       "      <td>0.0</td>\n",
       "      <td>6.9</td>\n",
       "      <td>NaN</td>\n",
       "      <td>0.0</td>\n",
       "      <td>Wind = 6.9 MW</td>\n",
       "      <td>Onshore Wind Turbine</td>\n",
       "      <td>EIA-860, EIA-860M and EIA-923</td>\n",
       "      <td>201801</td>\n",
       "      <td>41.677000</td>\n",
       "      <td>-97.391000</td>\n",
       "    </tr>\n",
       "    <tr>\n",
       "      <th>8613</th>\n",
       "      <td>61670</td>\n",
       "      <td>RJC II Community Solar Garden</td>\n",
       "      <td>RJC II CSG LLC</td>\n",
       "      <td>61285</td>\n",
       "      <td>IPP Non-CHP</td>\n",
       "      <td>NaN</td>\n",
       "      <td>NaN</td>\n",
       "      <td>Minnesota</td>\n",
       "      <td>0</td>\n",
       "      <td>NaN</td>\n",
       "      <td>...</td>\n",
       "      <td>1.0</td>\n",
       "      <td>0.0</td>\n",
       "      <td>NaN</td>\n",
       "      <td>0.0</td>\n",
       "      <td>Solar = 1 MW</td>\n",
       "      <td>Solar Photovoltaic</td>\n",
       "      <td>EIA-860, EIA-860M and EIA-923</td>\n",
       "      <td>201801</td>\n",
       "      <td>44.138851</td>\n",
       "      <td>-93.257152</td>\n",
       "    </tr>\n",
       "    <tr>\n",
       "      <th>8614</th>\n",
       "      <td>61671</td>\n",
       "      <td>Betcher Community Solar Garden</td>\n",
       "      <td>Betcher CSG LLC</td>\n",
       "      <td>61256</td>\n",
       "      <td>IPP Non-CHP</td>\n",
       "      <td>NaN</td>\n",
       "      <td>NaN</td>\n",
       "      <td>Minnesota</td>\n",
       "      <td>0</td>\n",
       "      <td>NaN</td>\n",
       "      <td>...</td>\n",
       "      <td>1.0</td>\n",
       "      <td>0.0</td>\n",
       "      <td>NaN</td>\n",
       "      <td>0.0</td>\n",
       "      <td>Solar = 1 MW</td>\n",
       "      <td>Solar Photovoltaic</td>\n",
       "      <td>EIA-860, EIA-860M and EIA-923</td>\n",
       "      <td>201801</td>\n",
       "      <td>44.392415</td>\n",
       "      <td>-92.595952</td>\n",
       "    </tr>\n",
       "    <tr>\n",
       "      <th>8615</th>\n",
       "      <td>61676</td>\n",
       "      <td>NCSU Cates Cogeneration Plant</td>\n",
       "      <td>NC State University, Energy Systems</td>\n",
       "      <td>61292</td>\n",
       "      <td>Commercial CHP</td>\n",
       "      <td>NaN</td>\n",
       "      <td>NaN</td>\n",
       "      <td>North Carolina</td>\n",
       "      <td>0</td>\n",
       "      <td>NaN</td>\n",
       "      <td>...</td>\n",
       "      <td>0.0</td>\n",
       "      <td>0.0</td>\n",
       "      <td>NaN</td>\n",
       "      <td>0.0</td>\n",
       "      <td>Natural Gas = 9.4 MW</td>\n",
       "      <td>Natural Gas Fired Combustion Turbine</td>\n",
       "      <td>EIA-860, EIA-860M and EIA-923</td>\n",
       "      <td>201801</td>\n",
       "      <td>35.784027</td>\n",
       "      <td>-78.674704</td>\n",
       "    </tr>\n",
       "  </tbody>\n",
       "</table>\n",
       "<p>8616 rows × 30 columns</p>\n",
       "</div>"
      ],
      "text/plain": [
       "      Plant_Code                      Plant_Name  \\\n",
       "0              2                    Bankhead Dam   \n",
       "1              3                           Barry   \n",
       "2              4              Walter Bouldin Dam   \n",
       "3              7                         Gadsden   \n",
       "4              8                          Gorgas   \n",
       "...          ...                             ...   \n",
       "8611       61658               Cougar Solar, LLC   \n",
       "8612       61668           Creston Ridge II, LLC   \n",
       "8613       61670   RJC II Community Solar Garden   \n",
       "8614       61671  Betcher Community Solar Garden   \n",
       "8615       61676   NCSU Cates Cogeneration Plant   \n",
       "\n",
       "                               Utility_Na  Utility_ID        sector_nam  \\\n",
       "0                        Alabama Power Co         195  Electric Utility   \n",
       "1                        Alabama Power Co         195  Electric Utility   \n",
       "2                        Alabama Power Co         195  Electric Utility   \n",
       "3                        Alabama Power Co         195  Electric Utility   \n",
       "4                        Alabama Power Co         195  Electric Utility   \n",
       "...                                   ...         ...               ...   \n",
       "8611                    Cougar Solar, LLC       61269       IPP Non-CHP   \n",
       "8612                Creston Ridge II, LLC       61280       IPP Non-CHP   \n",
       "8613                       RJC II CSG LLC       61285       IPP Non-CHP   \n",
       "8614                      Betcher CSG LLC       61256       IPP Non-CHP   \n",
       "8615  NC State University, Energy Systems       61292    Commercial CHP   \n",
       "\n",
       "           City      County       StateName    Zip            Street_Add  ...  \\\n",
       "0     Northport  Tuscaloosa         Alabama  35476    19001 Lock 17 Road  ...   \n",
       "1         Bucks      Mobile         Alabama  36512      North Highway 43  ...   \n",
       "2      Wetumpka      Elmore         Alabama  36092  750 Bouldin Dam Road  ...   \n",
       "3       Gadsden      Etowah         Alabama  35903     1000 Goodyear Ave  ...   \n",
       "4       Parrish      Walker         Alabama  35580       460 Gorgas Road  ...   \n",
       "...         ...         ...             ...    ...                   ...  ...   \n",
       "8611        NaN         NaN  North Carolina      0                   NaN  ...   \n",
       "8612        NaN         NaN        Nebraska      0                   NaN  ...   \n",
       "8613        NaN         NaN       Minnesota      0                   NaN  ...   \n",
       "8614        NaN         NaN       Minnesota      0                   NaN  ...   \n",
       "8615        NaN         NaN  North Carolina      0                   NaN  ...   \n",
       "\n",
       "     Solar_MW  Wind_MW  Geo_MW  Other_MW  \\\n",
       "0         0.0      0.0     NaN       0.0   \n",
       "1         0.0      0.0     NaN       0.0   \n",
       "2         0.0      0.0     NaN       0.0   \n",
       "3         0.0      0.0     NaN       0.0   \n",
       "4         0.0      0.0     NaN       0.0   \n",
       "...       ...      ...     ...       ...   \n",
       "8611      1.9      0.0     NaN       0.0   \n",
       "8612      0.0      6.9     NaN       0.0   \n",
       "8613      1.0      0.0     NaN       0.0   \n",
       "8614      1.0      0.0     NaN       0.0   \n",
       "8615      0.0      0.0     NaN       0.0   \n",
       "\n",
       "                                   source_des  \\\n",
       "0                       Hydroelectric = 56 MW   \n",
       "1     Coal = 1100.5 MW, Natural Gas = 1072 MW   \n",
       "2                    Hydroelectric = 225.9 MW   \n",
       "3                        Natural Gas = 130 MW   \n",
       "4                            Coal = 1053.7 MW   \n",
       "...                                       ...   \n",
       "8611                           Solar = 1.9 MW   \n",
       "8612                            Wind = 6.9 MW   \n",
       "8613                             Solar = 1 MW   \n",
       "8614                             Solar = 1 MW   \n",
       "8615                     Natural Gas = 9.4 MW   \n",
       "\n",
       "                                              tech_desc  \\\n",
       "0                            Conventional Hydroelectric   \n",
       "1     Conventional Steam Coal; Natural Gas Fired Com...   \n",
       "2                            Conventional Hydroelectric   \n",
       "3                             Natural Gas Steam Turbine   \n",
       "4                               Conventional Steam Coal   \n",
       "...                                                 ...   \n",
       "8611                                 Solar Photovoltaic   \n",
       "8612                               Onshore Wind Turbine   \n",
       "8613                                 Solar Photovoltaic   \n",
       "8614                                 Solar Photovoltaic   \n",
       "8615               Natural Gas Fired Combustion Turbine   \n",
       "\n",
       "                             Source  Period   Latitude  Longitude  \n",
       "0     EIA-860, EIA-860M and EIA-923  201801  33.458665 -87.356823  \n",
       "1     EIA-860, EIA-860M and EIA-923  201801  31.006900 -88.010300  \n",
       "2     EIA-860, EIA-860M and EIA-923  201801  32.583889 -86.283056  \n",
       "3     EIA-860, EIA-860M and EIA-923  201801  34.012800 -85.970800  \n",
       "4     EIA-860, EIA-860M and EIA-923  201801  33.644344 -87.196486  \n",
       "...                             ...     ...        ...        ...  \n",
       "8611  EIA-860, EIA-860M and EIA-923  201801  35.462405 -79.180654  \n",
       "8612  EIA-860, EIA-860M and EIA-923  201801  41.677000 -97.391000  \n",
       "8613  EIA-860, EIA-860M and EIA-923  201801  44.138851 -93.257152  \n",
       "8614  EIA-860, EIA-860M and EIA-923  201801  44.392415 -92.595952  \n",
       "8615  EIA-860, EIA-860M and EIA-923  201801  35.784027 -78.674704  \n",
       "\n",
       "[8616 rows x 30 columns]"
      ]
     },
     "execution_count": 11,
     "metadata": {},
     "output_type": "execute_result"
    }
   ],
   "source": [
    "import pandas as pd\n",
    "df = pd.read_csv(\"powerplants.csv\")\n",
    "df"
   ]
  },
  {
   "cell_type": "markdown",
   "id": "07743f11",
   "metadata": {},
   "source": [
    "## What are the different types of energy sources in this dataset?"
   ]
  },
  {
   "cell_type": "code",
   "execution_count": 13,
   "id": "141d5afd",
   "metadata": {},
   "outputs": [
    {
     "data": {
      "text/plain": [
       "Index(['Plant_Code', 'Plant_Name', 'Utility_Na', 'Utility_ID', 'sector_nam',\n",
       "       'City', 'County', 'StateName', 'Zip', 'Street_Add', 'PrimSource',\n",
       "       'Install_MW', 'Total_MW', 'Coal_MW', 'NG_MW', 'Crude_MW', 'Bio_MW',\n",
       "       'Hydro_MW', 'HydroPS_MW', 'Nuclear_MW', 'Solar_MW', 'Wind_MW', 'Geo_MW',\n",
       "       'Other_MW', 'source_des', 'tech_desc', 'Source', 'Period', 'Latitude',\n",
       "       'Longitude'],\n",
       "      dtype='object')"
      ]
     },
     "execution_count": 13,
     "metadata": {},
     "output_type": "execute_result"
    }
   ],
   "source": [
    "df.columns"
   ]
  },
  {
   "cell_type": "code",
   "execution_count": 14,
   "id": "b30988d7",
   "metadata": {},
   "outputs": [
    {
     "data": {
      "text/plain": [
       "solar             2255\n",
       "natural gas       1701\n",
       "hydroelectric     1410\n",
       "wind              1043\n",
       "petroleum          842\n",
       "biomass            726\n",
       "coal               337\n",
       "other              140\n",
       "geothermal          66\n",
       "nuclear             61\n",
       "pumped storage      35\n",
       "Name: PrimSource, dtype: int64"
      ]
     },
     "execution_count": 14,
     "metadata": {},
     "output_type": "execute_result"
    }
   ],
   "source": [
    "df.PrimSource.value_counts()"
   ]
  },
  {
   "cell_type": "markdown",
   "id": "b8f99b09",
   "metadata": {},
   "source": [
    "## What is the most common type of power plant in the United States?"
   ]
  },
  {
   "cell_type": "code",
   "execution_count": 43,
   "id": "21cc3608",
   "metadata": {},
   "outputs": [
    {
     "data": {
      "text/plain": [
       "pumped storage      35\n",
       "nuclear             61\n",
       "geothermal          66\n",
       "other              140\n",
       "coal               337\n",
       "biomass            726\n",
       "petroleum          842\n",
       "wind              1043\n",
       "hydroelectric     1410\n",
       "natural gas       1701\n",
       "solar             2255\n",
       "Name: PrimSource, dtype: int64"
      ]
     },
     "execution_count": 43,
     "metadata": {},
     "output_type": "execute_result"
    }
   ],
   "source": [
    "df.PrimSource.value_counts(ascending=True)"
   ]
  },
  {
   "cell_type": "markdown",
   "id": "30e1410c",
   "metadata": {},
   "source": [
    "## Make a graph of it, with the longest bar on the top."
   ]
  },
  {
   "cell_type": "code",
   "execution_count": 46,
   "id": "282ea8ef",
   "metadata": {},
   "outputs": [
    {
     "data": {
      "text/plain": [
       "<AxesSubplot:>"
      ]
     },
     "execution_count": 46,
     "metadata": {},
     "output_type": "execute_result"
    },
    {
     "data": {
      "image/png": "[encoded data removed]",
      "text/plain": [
       "<Figure size 432x288 with 1 Axes>"
      ]
     },
     "metadata": {
      "needs_background": "light"
     },
     "output_type": "display_data"
    }
   ],
   "source": [
    "df.PrimSource.value_counts(ascending=True).plot(kind='barh')"
   ]
  },
  {
   "cell_type": "markdown",
   "id": "cdbcf52f",
   "metadata": {},
   "source": [
    "## What type of power plant produces the most energy in the United States?"
   ]
  },
  {
   "cell_type": "code",
   "execution_count": 53,
   "id": "027eecbe",
   "metadata": {},
   "outputs": [
    {
     "data": {
      "text/plain": [
       "PrimSource\n",
       "geothermal          2541.0\n",
       "other               3882.5\n",
       "biomass            14085.3\n",
       "pumped storage     22864.5\n",
       "solar              27384.1\n",
       "petroleum          30739.2\n",
       "hydroelectric      79906.2\n",
       "wind               88450.1\n",
       "nuclear           100883.2\n",
       "coal              257599.1\n",
       "natural gas       453886.8\n",
       "Name: Total_MW, dtype: float64"
      ]
     },
     "execution_count": 53,
     "metadata": {},
     "output_type": "execute_result"
    }
   ],
   "source": [
    "df.groupby(by = 'PrimSource').Total_MW.sum().sort_values()"
   ]
  },
  {
   "cell_type": "markdown",
   "id": "1a3c1d5e",
   "metadata": {},
   "source": [
    "## Make a graph of it, with the longest bar on the top."
   ]
  },
  {
   "cell_type": "code",
   "execution_count": 54,
   "id": "a09a6d80",
   "metadata": {},
   "outputs": [
    {
     "data": {
      "text/plain": [
       "<AxesSubplot:ylabel='PrimSource'>"
      ]
     },
     "execution_count": 54,
     "metadata": {},
     "output_type": "execute_result"
    },
    {
     "data": {
      "image/png": "[encoded data removed]",
      "text/plain": [
       "<Figure size 432x288 with 1 Axes>"
      ]
     },
     "metadata": {
      "needs_background": "light"
     },
     "output_type": "display_data"
    }
   ],
   "source": [
    "df.groupby(by = 'PrimSource').Total_MW.sum().sort_values().plot(kind='barh')"
   ]
  },
  {
   "cell_type": "markdown",
   "id": "6205e138",
   "metadata": {},
   "source": [
    "## What US state has the most power plants?"
   ]
  },
  {
   "cell_type": "code",
   "execution_count": 50,
   "id": "50ba22a6",
   "metadata": {},
   "outputs": [
    {
     "data": {
      "text/plain": [
       "California        1344\n",
       "North Carolina     626\n",
       "Texas              431\n",
       "New York           407\n",
       "Minnesota          366\n",
       "Massachusetts      350\n",
       "New Jersey         263\n",
       "Iowa               240\n",
       "Michigan           231\n",
       "Pennsylvania       215\n",
       "Illinois           203\n",
       "Wisconsin          189\n",
       "Colorado           179\n",
       "Oregon             173\n",
       "Ohio               167\n",
       "Florida            160\n",
       "Georgia            159\n",
       "Indiana            153\n",
       "Virginia           150\n",
       "Alaska             145\n",
       "Kansas             139\n",
       "Idaho              138\n",
       "Washington         136\n",
       "Arizona            129\n",
       "Missouri           125\n",
       "South Carolina     112\n",
       "Oklahoma           108\n",
       "Nebraska           104\n",
       "Maine              104\n",
       "New Mexico         102\n",
       "Utah               101\n",
       "Maryland            99\n",
       "Connecticut         99\n",
       "Vermont             93\n",
       "Louisiana           82\n",
       "Nevada              81\n",
       "Alabama             76\n",
       "Tennessee           66\n",
       "Wyoming             63\n",
       "New Hampshire       61\n",
       "Montana             57\n",
       "Arkansas            56\n",
       "North Dakota        55\n",
       "Hawaii              53\n",
       "Kentucky            51\n",
       "Mississippi         45\n",
       "West Virginia       34\n",
       "South Dakota        34\n",
       "Rhode Island        34\n",
       "Delaware            26\n",
       "Name: StateName, dtype: int64"
      ]
     },
     "execution_count": 50,
     "metadata": {},
     "output_type": "execute_result"
    }
   ],
   "source": [
    "df.StateName.value_counts()"
   ]
  },
  {
   "cell_type": "markdown",
   "id": "57d07f78",
   "metadata": {},
   "source": [
    "## What three US states produce the most energy?"
   ]
  },
  {
   "cell_type": "code",
   "execution_count": 57,
   "id": "903b8cec",
   "metadata": {},
   "outputs": [
    {
     "data": {
      "text/plain": [
       "StateName\n",
       "Florida        57987.4\n",
       "California     76724.7\n",
       "Texas         120730.5\n",
       "Name: Total_MW, dtype: float64"
      ]
     },
     "execution_count": 57,
     "metadata": {},
     "output_type": "execute_result"
    }
   ],
   "source": [
    "df.groupby(by = 'StateName').Total_MW.sum().sort_values().tail(3)"
   ]
  },
  {
   "cell_type": "markdown",
   "id": "a9c597a5",
   "metadata": {},
   "source": [
    "## What state has the most coal power plants?"
   ]
  },
  {
   "cell_type": "code",
   "execution_count": 60,
   "id": "44124416",
   "metadata": {},
   "outputs": [
    {
     "data": {
      "text/plain": [
       "Illinois          21\n",
       "Pennsylvania      21\n",
       "Texas             18\n",
       "Indiana           17\n",
       "Iowa              15\n",
       "Michigan          15\n",
       "Ohio              14\n",
       "Missouri          14\n",
       "Minnesota         13\n",
       "Wyoming           12\n",
       "Kentucky          12\n",
       "Nebraska          10\n",
       "Wisconsin         10\n",
       "West Virginia     10\n",
       "North Carolina    10\n",
       "Colorado           9\n",
       "North Dakota       9\n",
       "Virginia           8\n",
       "Florida            8\n",
       "Maryland           7\n",
       "Tennessee          6\n",
       "Utah               6\n",
       "Oklahoma           6\n",
       "South Carolina     6\n",
       "Kansas             6\n",
       "Arkansas           5\n",
       "Montana            5\n",
       "Georgia            5\n",
       "Arizona            5\n",
       "Alaska             5\n",
       "New York           4\n",
       "Louisiana          3\n",
       "New Mexico         3\n",
       "Alabama            3\n",
       "Nevada             2\n",
       "New Jersey         2\n",
       "New Hampshire      2\n",
       "Mississippi        2\n",
       "South Dakota       1\n",
       "Oregon             1\n",
       "Washington         1\n",
       "Delaware           1\n",
       "Connecticut        1\n",
       "Idaho              1\n",
       "Hawaii             1\n",
       "California         1\n",
       "Name: StateName, dtype: int64"
      ]
     },
     "execution_count": 60,
     "metadata": {},
     "output_type": "execute_result"
    }
   ],
   "source": [
    "df[df.PrimSource == 'coal'].StateName.value_counts()"
   ]
  },
  {
   "cell_type": "markdown",
   "id": "2b36fa02",
   "metadata": {},
   "source": [
    "## What state produces the most energy using solar power?"
   ]
  },
  {
   "cell_type": "code",
   "execution_count": 64,
   "id": "d3082fcc",
   "metadata": {},
   "outputs": [
    {
     "data": {
      "text/plain": [
       "StateName\n",
       "Texas              1222.7\n",
       "Nevada             1829.7\n",
       "Arizona            2009.1\n",
       "North Carolina     3254.1\n",
       "California        10953.9\n",
       "Name: Total_MW, dtype: float64"
      ]
     },
     "execution_count": 64,
     "metadata": {},
     "output_type": "execute_result"
    }
   ],
   "source": [
    "df[df.PrimSource == 'solar'].groupby(by = 'StateName').Total_MW.sum().sort_values().tail()"
   ]
  },
  {
   "cell_type": "markdown",
   "id": "1809e8a1",
   "metadata": {},
   "source": [
    "## List all of the nuclear powerplants in New York."
   ]
  },
  {
   "cell_type": "code",
   "execution_count": 72,
   "id": "75aba10e",
   "metadata": {},
   "outputs": [
    {
     "name": "stderr",
     "output_type": "stream",
     "text": [
      "/var/folders/m2/hbrfwp7911s5ykfcv0bl3bcc0000gn/T/ipykernel_16066/2119079600.py:2: UserWarning: Boolean Series key will be reindexed to match DataFrame index.\n",
      "  df_NY[df.PrimSource == 'nuclear']\n"
     ]
    },
    {
     "data": {
      "text/html": [
       "<div>\n",
       "<style scoped>\n",
       "    .dataframe tbody tr th:only-of-type {\n",
       "        vertical-align: middle;\n",
       "    }\n",
       "\n",
       "    .dataframe tbody tr th {\n",
       "        vertical-align: top;\n",
       "    }\n",
       "\n",
       "    .dataframe thead th {\n",
       "        text-align: right;\n",
       "    }\n",
       "</style>\n",
       "<table border=\"1\" class=\"dataframe\">\n",
       "  <thead>\n",
       "    <tr style=\"text-align: right;\">\n",
       "      <th></th>\n",
       "      <th>Plant_Code</th>\n",
       "      <th>Plant_Name</th>\n",
       "      <th>Utility_Na</th>\n",
       "      <th>Utility_ID</th>\n",
       "      <th>sector_nam</th>\n",
       "      <th>City</th>\n",
       "      <th>County</th>\n",
       "      <th>StateName</th>\n",
       "      <th>Zip</th>\n",
       "      <th>Street_Add</th>\n",
       "      <th>...</th>\n",
       "      <th>Solar_MW</th>\n",
       "      <th>Wind_MW</th>\n",
       "      <th>Geo_MW</th>\n",
       "      <th>Other_MW</th>\n",
       "      <th>source_des</th>\n",
       "      <th>tech_desc</th>\n",
       "      <th>Source</th>\n",
       "      <th>Period</th>\n",
       "      <th>Latitude</th>\n",
       "      <th>Longitude</th>\n",
       "    </tr>\n",
       "  </thead>\n",
       "  <tbody>\n",
       "    <tr>\n",
       "      <th>1155</th>\n",
       "      <td>2497</td>\n",
       "      <td>Indian Point 2</td>\n",
       "      <td>Entergy Nuclear Indian Point 2</td>\n",
       "      <td>6027</td>\n",
       "      <td>IPP Non-CHP</td>\n",
       "      <td>Buchanan</td>\n",
       "      <td>Westchester</td>\n",
       "      <td>New York</td>\n",
       "      <td>10511</td>\n",
       "      <td>Broadway &amp; Bleakley Ave</td>\n",
       "      <td>...</td>\n",
       "      <td>0.0</td>\n",
       "      <td>0.0</td>\n",
       "      <td>NaN</td>\n",
       "      <td>0.0</td>\n",
       "      <td>Nuclear = 1000.4 MW</td>\n",
       "      <td>Nuclear</td>\n",
       "      <td>EIA-860, EIA-860M and EIA-923</td>\n",
       "      <td>201801</td>\n",
       "      <td>41.270556</td>\n",
       "      <td>-73.952700</td>\n",
       "    </tr>\n",
       "    <tr>\n",
       "      <th>1213</th>\n",
       "      <td>2589</td>\n",
       "      <td>Nine Mile Point Nuclear Station</td>\n",
       "      <td>Exelon Nuclear</td>\n",
       "      <td>55951</td>\n",
       "      <td>IPP Non-CHP</td>\n",
       "      <td>Lycoming</td>\n",
       "      <td>Oswego</td>\n",
       "      <td>New York</td>\n",
       "      <td>13093</td>\n",
       "      <td>PO Box 63</td>\n",
       "      <td>...</td>\n",
       "      <td>0.0</td>\n",
       "      <td>0.0</td>\n",
       "      <td>NaN</td>\n",
       "      <td>0.0</td>\n",
       "      <td>Nuclear = 1916 MW</td>\n",
       "      <td>Nuclear</td>\n",
       "      <td>EIA-860, EIA-860M and EIA-923</td>\n",
       "      <td>201801</td>\n",
       "      <td>43.521100</td>\n",
       "      <td>-76.410000</td>\n",
       "    </tr>\n",
       "    <tr>\n",
       "      <th>1861</th>\n",
       "      <td>6110</td>\n",
       "      <td>James A Fitzpatrick</td>\n",
       "      <td>Exelon Nuclear</td>\n",
       "      <td>55951</td>\n",
       "      <td>IPP Non-CHP</td>\n",
       "      <td>Lycoming</td>\n",
       "      <td>Oswego</td>\n",
       "      <td>New York</td>\n",
       "      <td>13093</td>\n",
       "      <td>Lake Road</td>\n",
       "      <td>...</td>\n",
       "      <td>0.0</td>\n",
       "      <td>0.0</td>\n",
       "      <td>NaN</td>\n",
       "      <td>0.0</td>\n",
       "      <td>Nuclear = 851 MW</td>\n",
       "      <td>Nuclear</td>\n",
       "      <td>EIA-860, EIA-860M and EIA-923</td>\n",
       "      <td>201801</td>\n",
       "      <td>43.521390</td>\n",
       "      <td>-76.408394</td>\n",
       "    </tr>\n",
       "    <tr>\n",
       "      <th>1868</th>\n",
       "      <td>6122</td>\n",
       "      <td>R E Ginna Nuclear Power Plant</td>\n",
       "      <td>Exelon Nuclear</td>\n",
       "      <td>55951</td>\n",
       "      <td>IPP Non-CHP</td>\n",
       "      <td>Ontario</td>\n",
       "      <td>Wayne</td>\n",
       "      <td>New York</td>\n",
       "      <td>14519</td>\n",
       "      <td>Lake Rd.</td>\n",
       "      <td>...</td>\n",
       "      <td>0.0</td>\n",
       "      <td>0.0</td>\n",
       "      <td>NaN</td>\n",
       "      <td>0.0</td>\n",
       "      <td>Nuclear = 582 MW</td>\n",
       "      <td>Nuclear</td>\n",
       "      <td>EIA-860, EIA-860M and EIA-923</td>\n",
       "      <td>201801</td>\n",
       "      <td>43.277700</td>\n",
       "      <td>-77.309900</td>\n",
       "    </tr>\n",
       "    <tr>\n",
       "      <th>2536</th>\n",
       "      <td>8907</td>\n",
       "      <td>Indian Point 3</td>\n",
       "      <td>Entergy Nuclear Indian Point 3</td>\n",
       "      <td>6028</td>\n",
       "      <td>IPP Non-CHP</td>\n",
       "      <td>Buchanan</td>\n",
       "      <td>Westchester</td>\n",
       "      <td>New York</td>\n",
       "      <td>10511</td>\n",
       "      <td>Broadway Bleakley Avenue</td>\n",
       "      <td>...</td>\n",
       "      <td>0.0</td>\n",
       "      <td>0.0</td>\n",
       "      <td>NaN</td>\n",
       "      <td>0.0</td>\n",
       "      <td>Nuclear = 1041.3 MW</td>\n",
       "      <td>Nuclear</td>\n",
       "      <td>EIA-860, EIA-860M and EIA-923</td>\n",
       "      <td>201801</td>\n",
       "      <td>41.270600</td>\n",
       "      <td>-73.952600</td>\n",
       "    </tr>\n",
       "  </tbody>\n",
       "</table>\n",
       "<p>5 rows × 30 columns</p>\n",
       "</div>"
      ],
      "text/plain": [
       "      Plant_Code                       Plant_Name  \\\n",
       "1155        2497                   Indian Point 2   \n",
       "1213        2589  Nine Mile Point Nuclear Station   \n",
       "1861        6110              James A Fitzpatrick   \n",
       "1868        6122    R E Ginna Nuclear Power Plant   \n",
       "2536        8907                   Indian Point 3   \n",
       "\n",
       "                          Utility_Na  Utility_ID   sector_nam      City  \\\n",
       "1155  Entergy Nuclear Indian Point 2        6027  IPP Non-CHP  Buchanan   \n",
       "1213                  Exelon Nuclear       55951  IPP Non-CHP  Lycoming   \n",
       "1861                  Exelon Nuclear       55951  IPP Non-CHP  Lycoming   \n",
       "1868                  Exelon Nuclear       55951  IPP Non-CHP   Ontario   \n",
       "2536  Entergy Nuclear Indian Point 3        6028  IPP Non-CHP  Buchanan   \n",
       "\n",
       "           County StateName    Zip                Street_Add  ... Solar_MW  \\\n",
       "1155  Westchester  New York  10511   Broadway & Bleakley Ave  ...      0.0   \n",
       "1213       Oswego  New York  13093                 PO Box 63  ...      0.0   \n",
       "1861       Oswego  New York  13093                 Lake Road  ...      0.0   \n",
       "1868        Wayne  New York  14519                  Lake Rd.  ...      0.0   \n",
       "2536  Westchester  New York  10511  Broadway Bleakley Avenue  ...      0.0   \n",
       "\n",
       "      Wind_MW  Geo_MW  Other_MW           source_des  tech_desc  \\\n",
       "1155      0.0     NaN       0.0  Nuclear = 1000.4 MW    Nuclear   \n",
       "1213      0.0     NaN       0.0    Nuclear = 1916 MW    Nuclear   \n",
       "1861      0.0     NaN       0.0     Nuclear = 851 MW    Nuclear   \n",
       "1868      0.0     NaN       0.0     Nuclear = 582 MW    Nuclear   \n",
       "2536      0.0     NaN       0.0  Nuclear = 1041.3 MW    Nuclear   \n",
       "\n",
       "                             Source  Period   Latitude  Longitude  \n",
       "1155  EIA-860, EIA-860M and EIA-923  201801  41.270556 -73.952700  \n",
       "1213  EIA-860, EIA-860M and EIA-923  201801  43.521100 -76.410000  \n",
       "1861  EIA-860, EIA-860M and EIA-923  201801  43.521390 -76.408394  \n",
       "1868  EIA-860, EIA-860M and EIA-923  201801  43.277700 -77.309900  \n",
       "2536  EIA-860, EIA-860M and EIA-923  201801  41.270600 -73.952600  \n",
       "\n",
       "[5 rows x 30 columns]"
      ]
     },
     "execution_count": 72,
     "metadata": {},
     "output_type": "execute_result"
    }
   ],
   "source": [
    "df_NY = df[df.StateName == 'New York']\n",
    "df_NY[df.PrimSource == 'nuclear']"
   ]
  },
  {
   "cell_type": "markdown",
   "id": "a865c0ce",
   "metadata": {},
   "source": [
    "## What is the most common type of powerplant in New Jersey?"
   ]
  },
  {
   "cell_type": "code",
   "execution_count": 76,
   "id": "28016666",
   "metadata": {},
   "outputs": [
    {
     "data": {
      "text/plain": [
       "solar             183\n",
       "natural gas        48\n",
       "biomass            16\n",
       "petroleum           4\n",
       "nuclear             3\n",
       "coal                2\n",
       "hydroelectric       2\n",
       "other               2\n",
       "wind                2\n",
       "pumped storage      1\n",
       "Name: PrimSource, dtype: int64"
      ]
     },
     "execution_count": 76,
     "metadata": {},
     "output_type": "execute_result"
    }
   ],
   "source": [
    "df[df.StateName == 'New Jersey'].PrimSource.value_counts()\n"
   ]
  },
  {
   "cell_type": "markdown",
   "id": "d59391ef",
   "metadata": {},
   "source": [
    "## What type of power plant produces the most power in New Jersey?"
   ]
  },
  {
   "cell_type": "code",
   "execution_count": 84,
   "id": "1d36be1e",
   "metadata": {},
   "outputs": [
    {
     "data": {
      "text/plain": [
       "PrimSource\n",
       "wind                  7.6\n",
       "hydroelectric        12.3\n",
       "other                13.1\n",
       "biomass             226.4\n",
       "petroleum           334.0\n",
       "pumped storage      420.0\n",
       "coal                463.0\n",
       "solar               638.5\n",
       "nuclear            4146.3\n",
       "natural gas       11556.3\n",
       "Name: Total_MW, dtype: float64"
      ]
     },
     "execution_count": 84,
     "metadata": {},
     "output_type": "execute_result"
    }
   ],
   "source": [
    "df_NJ = df[df.StateName == 'New Jersey']\n",
    "df_NJ.groupby(by = 'PrimSource').Total_MW.sum().sort_values()"
   ]
  },
  {
   "cell_type": "code",
   "execution_count": null,
   "id": "1cfcccda",
   "metadata": {},
   "outputs": [],
   "source": []
  }
 ],
 "metadata": {
  "kernelspec": {
   "display_name": "Python 3 (ipykernel)",
   "language": "python",
   "name": "python3"
  },
  "language_info": {
   "codemirror_mode": {
    "name": "ipython",
    "version": 3
   },
   "file_extension": ".py",
   "mimetype": "text/x-python",
   "name": "python",
   "nbconvert_exporter": "python",
   "pygments_lexer": "ipython3",
   "version": "3.9.7"
  }
 },
 "nbformat": 4,
 "nbformat_minor": 5
}
