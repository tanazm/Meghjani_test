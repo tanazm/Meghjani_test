{
 "cells": [
  {
   "cell_type": "markdown",
   "id": "5371f04c",
   "metadata": {},
   "source": [
    "# Lumber Prices\n",
    "\n",
    "* **Data:** `lumber-prices.csv`\n",
    "* **Description:** Chicago lumber futures per 1000 board feet, in USD. To keep things simple, we're going to say that this is the measurement over a month instead of just one date per month. Basically: each month, how much you'd pay if you bought 125 2x4 boards at the hardware store.\n",
    "* **Source:** https://tradingeconomics.com/commodity/lumber\n",
    "* **Columns of interest:**\n",
    "    * `Open` is the price at the start of the month\n",
    "    * `High` is the high price over the course of the month\n",
    "    * `Low` is the low number over the course of the month\n",
    "    * `Close` is the number at the end of the month"
   ]
  },
  {
   "cell_type": "markdown",
   "id": "ffcf050f",
   "metadata": {},
   "source": [
    "## Read in your data"
   ]
  },
  {
   "cell_type": "code",
   "execution_count": 1,
   "id": "505f1e94",
   "metadata": {},
   "outputs": [
    {
     "name": "stderr",
     "output_type": "stream",
     "text": [
      "/Users/tanazmeghjani/.pyenv/versions/3.9.7/lib/python3.9/site-packages/pandas/compat/__init__.py:124: UserWarning: Could not import the lzma module. Your installed Python is incomplete. Attempting to use lzma compression will result in a RuntimeError.\n",
      "  warnings.warn(msg)\n"
     ]
    },
    {
     "data": {
      "text/html": [
       "<div>\n",
       "<style scoped>\n",
       "    .dataframe tbody tr th:only-of-type {\n",
       "        vertical-align: middle;\n",
       "    }\n",
       "\n",
       "    .dataframe tbody tr th {\n",
       "        vertical-align: top;\n",
       "    }\n",
       "\n",
       "    .dataframe thead th {\n",
       "        text-align: right;\n",
       "    }\n",
       "</style>\n",
       "<table border=\"1\" class=\"dataframe\">\n",
       "  <thead>\n",
       "    <tr style=\"text-align: right;\">\n",
       "      <th></th>\n",
       "      <th>open</th>\n",
       "      <th>high</th>\n",
       "      <th>low</th>\n",
       "      <th>close</th>\n",
       "      <th>date</th>\n",
       "    </tr>\n",
       "  </thead>\n",
       "  <tbody>\n",
       "    <tr>\n",
       "      <th>0</th>\n",
       "      <td>$407.00</td>\n",
       "      <td>$424.70</td>\n",
       "      <td>$377.00</td>\n",
       "      <td>$424.70</td>\n",
       "      <td>1996-12-09T00:00:00</td>\n",
       "    </tr>\n",
       "    <tr>\n",
       "      <th>1</th>\n",
       "      <td>$426.00</td>\n",
       "      <td>$450.50</td>\n",
       "      <td>$395.00</td>\n",
       "      <td>$411.40</td>\n",
       "      <td>1997-01-02T00:00:00</td>\n",
       "    </tr>\n",
       "    <tr>\n",
       "      <th>2</th>\n",
       "      <td>$408.50</td>\n",
       "      <td>$421.50</td>\n",
       "      <td>$382.10</td>\n",
       "      <td>$383.50</td>\n",
       "      <td>1997-02-03T00:00:00</td>\n",
       "    </tr>\n",
       "    <tr>\n",
       "      <th>3</th>\n",
       "      <td>$386.00</td>\n",
       "      <td>$389.70</td>\n",
       "      <td>$355.00</td>\n",
       "      <td>$380.50</td>\n",
       "      <td>1997-03-03T00:00:00</td>\n",
       "    </tr>\n",
       "    <tr>\n",
       "      <th>4</th>\n",
       "      <td>$378.00</td>\n",
       "      <td>$417.50</td>\n",
       "      <td>$376.50</td>\n",
       "      <td>$403.10</td>\n",
       "      <td>1997-04-01T00:00:00</td>\n",
       "    </tr>\n",
       "    <tr>\n",
       "      <th>...</th>\n",
       "      <td>...</td>\n",
       "      <td>...</td>\n",
       "      <td>...</td>\n",
       "      <td>...</td>\n",
       "      <td>...</td>\n",
       "    </tr>\n",
       "    <tr>\n",
       "      <th>295</th>\n",
       "      <td>$716.00</td>\n",
       "      <td>$825.60</td>\n",
       "      <td>$490.00</td>\n",
       "      <td>$621.20</td>\n",
       "      <td>2021-07-01T00:00:00</td>\n",
       "    </tr>\n",
       "    <tr>\n",
       "      <th>296</th>\n",
       "      <td>$623.10</td>\n",
       "      <td>$650.00</td>\n",
       "      <td>$448.00</td>\n",
       "      <td>$482.80</td>\n",
       "      <td>2021-08-02T00:00:00</td>\n",
       "    </tr>\n",
       "    <tr>\n",
       "      <th>297</th>\n",
       "      <td>$482.10</td>\n",
       "      <td>$659.70</td>\n",
       "      <td>$454.40</td>\n",
       "      <td>$627.50</td>\n",
       "      <td>2021-09-01T00:00:00</td>\n",
       "    </tr>\n",
       "    <tr>\n",
       "      <th>298</th>\n",
       "      <td>$637.10</td>\n",
       "      <td>$789.60</td>\n",
       "      <td>$588.50</td>\n",
       "      <td>$591.60</td>\n",
       "      <td>2021-10-01T00:00:00</td>\n",
       "    </tr>\n",
       "    <tr>\n",
       "      <th>299</th>\n",
       "      <td>$595.20</td>\n",
       "      <td>$831.80</td>\n",
       "      <td>$530.10</td>\n",
       "      <td>$824.50</td>\n",
       "      <td>2021-11-01T00:00:00</td>\n",
       "    </tr>\n",
       "  </tbody>\n",
       "</table>\n",
       "<p>300 rows × 5 columns</p>\n",
       "</div>"
      ],
      "text/plain": [
       "        open     high      low    close                 date\n",
       "0    $407.00  $424.70  $377.00  $424.70  1996-12-09T00:00:00\n",
       "1    $426.00  $450.50  $395.00  $411.40  1997-01-02T00:00:00\n",
       "2    $408.50  $421.50  $382.10  $383.50  1997-02-03T00:00:00\n",
       "3    $386.00  $389.70  $355.00  $380.50  1997-03-03T00:00:00\n",
       "4    $378.00  $417.50  $376.50  $403.10  1997-04-01T00:00:00\n",
       "..       ...      ...      ...      ...                  ...\n",
       "295  $716.00  $825.60  $490.00  $621.20  2021-07-01T00:00:00\n",
       "296  $623.10  $650.00  $448.00  $482.80  2021-08-02T00:00:00\n",
       "297  $482.10  $659.70  $454.40  $627.50  2021-09-01T00:00:00\n",
       "298  $637.10  $789.60  $588.50  $591.60  2021-10-01T00:00:00\n",
       "299  $595.20  $831.80  $530.10  $824.50  2021-11-01T00:00:00\n",
       "\n",
       "[300 rows x 5 columns]"
      ]
     },
     "execution_count": 1,
     "metadata": {},
     "output_type": "execute_result"
    }
   ],
   "source": [
    "import pandas as pd\n",
    "df = pd.read_csv(\"lumber-prices.csv\")\n",
    "df"
   ]
  },
  {
   "cell_type": "markdown",
   "id": "e0403107",
   "metadata": {},
   "source": [
    "## What is the earliest month in this dataset?\n",
    "\n",
    "We only have one reading per month, so you could also read this as \"what is the earliest date in the dataset\""
   ]
  },
  {
   "cell_type": "code",
   "execution_count": 3,
   "id": "9dfd66cc",
   "metadata": {},
   "outputs": [
    {
     "name": "stdout",
     "output_type": "stream",
     "text": [
      "<class 'pandas.core.frame.DataFrame'>\n",
      "RangeIndex: 300 entries, 0 to 299\n",
      "Data columns (total 5 columns):\n",
      " #   Column  Non-Null Count  Dtype \n",
      "---  ------  --------------  ----- \n",
      " 0   open    300 non-null    object\n",
      " 1   high    300 non-null    object\n",
      " 2   low     300 non-null    object\n",
      " 3   close   300 non-null    object\n",
      " 4   date    300 non-null    object\n",
      "dtypes: object(5)\n",
      "memory usage: 11.8+ KB\n"
     ]
    }
   ],
   "source": [
    "df.info()"
   ]
  },
  {
   "cell_type": "code",
   "execution_count": 6,
   "id": "824cba6a",
   "metadata": {},
   "outputs": [
    {
     "name": "stdout",
     "output_type": "stream",
     "text": [
      "<class 'pandas.core.frame.DataFrame'>\n",
      "RangeIndex: 300 entries, 0 to 299\n",
      "Data columns (total 5 columns):\n",
      " #   Column  Non-Null Count  Dtype         \n",
      "---  ------  --------------  -----         \n",
      " 0   open    300 non-null    object        \n",
      " 1   high    300 non-null    object        \n",
      " 2   low     300 non-null    object        \n",
      " 3   close   300 non-null    object        \n",
      " 4   date    300 non-null    datetime64[ns]\n",
      "dtypes: datetime64[ns](1), object(4)\n",
      "memory usage: 11.8+ KB\n"
     ]
    }
   ],
   "source": [
    "df.date = pd.to_datetime(df.date, errors='coerce', format= \"%Y-%m-%d\")\n",
    "df.info()"
   ]
  },
  {
   "cell_type": "code",
   "execution_count": 25,
   "id": "8faf4344",
   "metadata": {},
   "outputs": [
    {
     "data": {
      "text/plain": [
       "date\n",
       "1996-12-31    1\n",
       "2013-11-30    1\n",
       "2013-10-31    1\n",
       "2013-09-30    1\n",
       "2013-08-31    1\n",
       "             ..\n",
       "2005-01-31    1\n",
       "2004-12-31    1\n",
       "2004-11-30    1\n",
       "2004-09-30    1\n",
       "2021-11-30    1\n",
       "Length: 300, dtype: int64"
      ]
     },
     "execution_count": 25,
     "metadata": {},
     "output_type": "execute_result"
    }
   ],
   "source": [
    "df.resample('M', on='date').size().sort_values()"
   ]
  },
  {
   "cell_type": "markdown",
   "id": "0a55273d",
   "metadata": {},
   "source": [
    "## What 3 months had the highest high lumber price?"
   ]
  },
  {
   "cell_type": "code",
   "execution_count": 53,
   "id": "e55f3521",
   "metadata": {},
   "outputs": [
    {
     "data": {
      "text/plain": [
       "285    $1000.00\n",
       "290    $1030.40\n",
       "291    $1045.00\n",
       "Name: high, dtype: object"
      ]
     },
     "execution_count": 53,
     "metadata": {},
     "output_type": "execute_result"
    }
   ],
   "source": [
    "df.high.sort_values().head(3)"
   ]
  },
  {
   "cell_type": "code",
   "execution_count": null,
   "id": "0e5cf127",
   "metadata": {},
   "outputs": [],
   "source": []
  },
  {
   "cell_type": "markdown",
   "id": "843b2f36",
   "metadata": {},
   "source": [
    "## What is the median \"high\" lumber price in our dataset?"
   ]
  },
  {
   "cell_type": "code",
   "execution_count": null,
   "id": "d7d69d6b",
   "metadata": {},
   "outputs": [],
   "source": []
  },
  {
   "cell_type": "markdown",
   "id": "898b6df0",
   "metadata": {},
   "source": [
    "## Plot the lowest \"low\" lumber price on an annual basis."
   ]
  },
  {
   "cell_type": "code",
   "execution_count": null,
   "id": "007ed835",
   "metadata": {},
   "outputs": [],
   "source": []
  },
  {
   "cell_type": "markdown",
   "id": "a507d8a6",
   "metadata": {},
   "source": [
    "## What month in our dataset had the largest swing between high and low?\n",
    "\n",
    "You'll want to create a new column for this one"
   ]
  },
  {
   "cell_type": "code",
   "execution_count": null,
   "id": "4178d51c",
   "metadata": {},
   "outputs": [],
   "source": []
  },
  {
   "cell_type": "code",
   "execution_count": null,
   "id": "42d3445c",
   "metadata": {},
   "outputs": [],
   "source": []
  },
  {
   "cell_type": "markdown",
   "id": "dd08822c",
   "metadata": {},
   "source": [
    "## In how many months did lumber prices rise?\n",
    "\n",
    "If the price was greater at the end of the month than the beginning of the month, we'll say the price rose."
   ]
  },
  {
   "cell_type": "code",
   "execution_count": null,
   "id": "e6549397",
   "metadata": {},
   "outputs": [],
   "source": []
  },
  {
   "cell_type": "code",
   "execution_count": null,
   "id": "696becea",
   "metadata": {},
   "outputs": [],
   "source": []
  },
  {
   "cell_type": "markdown",
   "id": "3b98b6d5",
   "metadata": {},
   "source": [
    "## In 2000, how many months saw lumber prices rise vs lumber prices fall?"
   ]
  },
  {
   "cell_type": "code",
   "execution_count": null,
   "id": "534265d7",
   "metadata": {},
   "outputs": [],
   "source": []
  },
  {
   "cell_type": "code",
   "execution_count": null,
   "id": "ff514b44",
   "metadata": {},
   "outputs": [],
   "source": []
  }
 ],
 "metadata": {
  "kernelspec": {
   "display_name": "Python 3 (ipykernel)",
   "language": "python",
   "name": "python3"
  },
  "language_info": {
   "codemirror_mode": {
    "name": "ipython",
    "version": 3
   },
   "file_extension": ".py",
   "mimetype": "text/x-python",
   "name": "python",
   "nbconvert_exporter": "python",
   "pygments_lexer": "ipython3",
   "version": "3.9.7"
  }
 },
 "nbformat": 4,
 "nbformat_minor": 5
}
